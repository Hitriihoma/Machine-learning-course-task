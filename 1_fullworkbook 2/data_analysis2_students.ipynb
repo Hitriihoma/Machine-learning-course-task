{
 "cells": [
  {
   "cell_type": "markdown",
   "metadata": {},
   "source": [
    "# 0. Import libs"
   ]
  },
  {
   "cell_type": "code",
   "execution_count": null,
   "metadata": {},
   "outputs": [],
   "source": [
    "%pylab inline\n",
    "\n",
    "import pandas as pd\n",
    "import numpy as np\n",
    "from datetime import datetime\n",
    "from dateutil.relativedelta import relativedelta\n",
    "import time\n",
    "import os\n",
    "import warnings\n",
    "warnings.simplefilter(\"ignore\")\n",
    "\n",
    "import matplotlib.pyplot as plt\n",
    "import plotly.graph_objs as go\n",
    "\n",
    "#многопоточность если потребуется\n",
    "from multiprocessing import Pool , Process\n",
    "from multiprocessing import Manager"
   ]
  },
  {
   "cell_type": "code",
   "execution_count": null,
   "metadata": {},
   "outputs": [],
   "source": [
    "#импортируем всякие вспомогательные библиотеки, если будет время поиграться\n",
    "#а также библиотеки для отрисовки графиков\n",
    "import pandas as pd\n",
    "import numpy as np\n",
    "import matplotlib.pyplot as plt\n",
    "import seaborn as sns\n",
    "%matplotlib inline\n",
    "\n",
    "from collections import Counter\n",
    "\n",
    "\n",
    "from sklearn.model_selection import KFold, cross_val_score, train_test_split\n",
    "from sklearn.ensemble import (RandomForestClassifier, AdaBoostClassifier, \n",
    "                              GradientBoostingClassifier, ExtraTreesClassifier)\n",
    "from sklearn.svm import SVC\n",
    "import numpy as np\n",
    "from sklearn import metrics\n",
    "\n",
    "from sklearn.ensemble import RandomForestClassifier, AdaBoostClassifier, GradientBoostingClassifier, ExtraTreesClassifier, VotingClassifier\n",
    "from sklearn.ensemble import VotingClassifier as vc\n",
    "from sklearn.discriminant_analysis import LinearDiscriminantAnalysis\n",
    "from sklearn.linear_model import LogisticRegression\n",
    "from sklearn.neighbors import KNeighborsClassifier\n",
    "from sklearn.tree import DecisionTreeClassifier\n",
    "from sklearn.neural_network import MLPClassifier\n",
    "from sklearn.svm import SVC\n",
    "from sklearn.model_selection import GridSearchCV, cross_val_score, StratifiedKFold, learning_curve\n",
    "from sklearn.naive_bayes import GaussianNB\n",
    "\n",
    "from sklearn.linear_model import SGDClassifier as sgd\n",
    "from sklearn.linear_model import LogisticRegression as lr\n",
    "from sklearn.linear_model import Lasso as las\n",
    "from sklearn import svm\n",
    "\n",
    "from sklearn.preprocessing import StandardScaler\n",
    "from sklearn.cluster import DBSCAN, KMeans\n",
    "from sklearn.metrics import silhouette_score\n",
    "\n"
   ]
  },
  {
   "cell_type": "markdown",
   "metadata": {},
   "source": [
    "# load data"
   ]
  },
  {
   "cell_type": "code",
   "execution_count": null,
   "metadata": {},
   "outputs": [],
   "source": [
    "#посмотрим на комментарии ц excel файле, соответствующие столбцам\n",
    "#интересно, детальная расшифровка полей\n",
    "from openpyxl import Workbook\n",
    "from openpyxl import load_workbook\n",
    "\n",
    "wb = load_workbook(\"data/Task_Python.xlsx\",)\n",
    "ws = wb[\"Train\"] # or whatever sheet name\n",
    "\n",
    "for nrow, row in enumerate(ws.rows):\n",
    "    if nrow == 1:\n",
    "        break\n",
    "    for cell in row:\n",
    "        if not cell.comment is None:\n",
    "            start = str(cell.comment).find('\\n') + 1\n",
    "            end = str(cell.comment).find(' by П')\n",
    "            print(f'{cell.value}: {str(cell.comment)[start:end]}')\n",
    "del wb, ws"
   ]
  },
  {
   "cell_type": "code",
   "execution_count": null,
   "metadata": {},
   "outputs": [],
   "source": [
    "#загрузим данные из excel посмотрим\n",
    "data = pd.read_excel('data/Task_Python.xlsx', sheet_name='Train', nrows=3223, usecols='A:U', index_col=None)\n",
    "print(data.shape)\n",
    "with pd.option_context('max_columns',25):\n",
    "    display(data.head())\n",
    "#на всякий случай сохранил данные в csv формат, чтобы удобнее работать и проверять"
   ]
  },
  {
   "cell_type": "code",
   "execution_count": null,
   "metadata": {},
   "outputs": [],
   "source": [
    "train_directory = \"data/train.csv\"\n",
    "test_directory = \"data/test.csv\"\n",
    "train = pd.read_csv(train_directory, header=0 )\n",
    "test = pd.read_csv(test_directory, header=0 )\n",
    "\n",
    "train['y'] = [1 if y == 'yes' else 0 for y in train['y']]"
   ]
  },
  {
   "cell_type": "code",
   "execution_count": null,
   "metadata": {},
   "outputs": [],
   "source": [
    "#выделим категариальные признаки  и количественные признаки\n",
    "\n",
    "cat_feats = []\n",
    "num_feats = []\n",
    "\n",
    "for feat in train.dtypes.keys():\n",
    "    if train.dtypes[feat] == 'object' and feat != 'y':\n",
    "        cat_feats.append(feat)\n",
    "    elif feat != 'y':\n",
    "        num_feats.append(feat)\n",
    "        "
   ]
  },
  {
   "cell_type": "markdown",
   "metadata": {},
   "source": [
    "# 6. оценка стат значимости коэффициентов"
   ]
  },
  {
   "cell_type": "code",
   "execution_count": null,
   "metadata": {},
   "outputs": [],
   "source": [
    "import statsmodels\n",
    "import statsmodels.formula.api as smf\n",
    "import statsmodels.stats.api as sms\n",
    "\n",
    "#постройте полиномиальную модель прогноза y от зависимости квадрата возраста (age) , третей степени продолжительности (duration) \n",
    "#и первой степени дней (pdays) на данных train\n",
    "\n",
    "\n",
    "#выведете саммари модели\n"
   ]
  },
  {
   "cell_type": "markdown",
   "metadata": {},
   "source": [
    "# QQ график"
   ]
  },
  {
   "cell_type": "code",
   "execution_count": null,
   "metadata": {},
   "outputs": [],
   "source": [
    "import scipy as sc \n",
    "\n",
    "#постройте QQ график и дайте его оценку, точна ли модель на созданных факторах?\n",
    "#как можно улучшить модель?\n"
   ]
  },
  {
   "cell_type": "markdown",
   "metadata": {},
   "source": [
    "# создание модели зависимости на основании ансамбля деревьев решений"
   ]
  },
  {
   "cell_type": "code",
   "execution_count": null,
   "metadata": {},
   "outputs": [],
   "source": [
    "#создайте модель ансамбля деревьев решений на основании количественных переменных (num_feats)\n",
    "#задайте количество деревьев (n_estimators ) = 30\n",
    "#зафиксируйте генератор случайных чисел (random_state) на значении 22031990\n"
   ]
  },
  {
   "cell_type": "markdown",
   "metadata": {},
   "source": [
    "# Оценка качества модели для построения выводов"
   ]
  },
  {
   "cell_type": "code",
   "execution_count": null,
   "metadata": {},
   "outputs": [],
   "source": [
    "#проверьте, какое качество прогноза модели получилось на обучающих данных\n",
    "#какова итоговая вероятность определения правильного значения y?\n"
   ]
  },
  {
   "cell_type": "markdown",
   "metadata": {},
   "source": [
    "# оценка важности признаков на таргет"
   ]
  },
  {
   "cell_type": "code",
   "execution_count": null,
   "metadata": {},
   "outputs": [],
   "source": [
    "#нарисуйте график Feature Importance\n",
    "#какие топ 3 фактора влияют на итоговую переменную y?\n",
    "\n",
    "\n",
    "#отразим важные факторы для анализа потенциальных зависимостей в данных при всей выборке\n"
   ]
  },
  {
   "cell_type": "markdown",
   "metadata": {},
   "source": [
    "# фильтрация признаков"
   ]
  },
  {
   "cell_type": "code",
   "execution_count": null,
   "metadata": {},
   "outputs": [],
   "source": [
    "#постройте модель итеративно выбирая лучшие показатели и добавляя только самые значимые переменные.\n",
    "#сделайте модель на тооп 3 факторах из всего train\n",
    "#посмотрите, какие наиболее значимые фактооры получились?\n"
   ]
  },
  {
   "cell_type": "markdown",
   "metadata": {},
   "source": [
    "# оценка значимых признаков по boxplot"
   ]
  },
  {
   "cell_type": "code",
   "execution_count": null,
   "metadata": {},
   "outputs": [],
   "source": [
    "#нарисуйте ящики с усами отноосительно таргета по 3 значимым факторам из количественных переменных \n",
    "#и по 3 значимым факторам на основании добавления по лучшему фактору\n",
    "#какие факторы лучше описывают зависимость от y?"
   ]
  },
  {
   "cell_type": "markdown",
   "metadata": {},
   "source": [
    "# PLOTLY"
   ]
  },
  {
   "cell_type": "code",
   "execution_count": null,
   "metadata": {},
   "outputs": [],
   "source": [
    "df_game_log = pd.read_csv('./dota_data/df_game_log_students.csv')\n",
    "\n",
    "df_game_log.head()"
   ]
  },
  {
   "cell_type": "code",
   "execution_count": null,
   "metadata": {},
   "outputs": [],
   "source": [
    "#https://pypi.org/project/plotly/\n",
    "!pip install plotly"
   ]
  },
  {
   "cell_type": "code",
   "execution_count": null,
   "metadata": {},
   "outputs": [],
   "source": [
    "%matplotlib inline\n",
    "%pylab inline\n",
    "from plotly import __version__\n",
    "from plotly.offline import download_plotlyjs, init_notebook_mode, plot, iplot\n",
    "import plotly.graph_objs as go\n",
    "import plotly.graph_objects as goo\n",
    "init_notebook_mode(connected=True)\n"
   ]
  },
  {
   "cell_type": "code",
   "execution_count": null,
   "metadata": {},
   "outputs": [],
   "source": [
    "#найдите игру (matchid), где в течение игрового времени средний уровень жизни (healthPercent) максимальный\n",
    "#что этоо за игра?"
   ]
  },
  {
   "cell_type": "code",
   "execution_count": null,
   "metadata": {},
   "outputs": [],
   "source": [
    "#выведите график поведения healthPercent и manaPercent по данной игре\n",
    "#на оси x выводите gameTime\n",
    "\n"
   ]
  },
  {
   "cell_type": "markdown",
   "metadata": {},
   "source": [
    "# dsstack"
   ]
  },
  {
   "cell_type": "code",
   "execution_count": null,
   "metadata": {},
   "outputs": [],
   "source": [
    "!pip install dstack\n"
   ]
  },
  {
   "cell_type": "code",
   "execution_count": null,
   "metadata": {},
   "outputs": [],
   "source": [
    "#пример загрузки файла\n",
    "import matplotlib.pyplot as plt\n",
    "from dstack import create_frame\n",
    "\n",
    "def line_plot(a):\n",
    "    xs = range(0, 21)\n",
    "    ys = [a * x for x in xs]\n",
    "    fig = plt.figure()\n",
    "    plt.axis([0, 20, 0, 20])\n",
    "    plt.plot(xs, ys)\n",
    "    return fig\n",
    "\n",
    "\n",
    "frame = create_frame(\"line_plot\")\n",
    "coeff = [0.5, 1.0, 1.5, 2.0]\n",
    "\n",
    "for c in coeff:\n",
    "    frame.commit(line_plot(c), \n",
    "    f\"Line plot with the coefficient of {c}\", {\"Coefficient\": c})\n",
    "\n",
    "frame.push()"
   ]
  },
  {
   "cell_type": "code",
   "execution_count": null,
   "metadata": {},
   "outputs": [],
   "source": [
    "#загрузите полученный график по жизням и мане в выбранной игре через dstack и скиньте мне на него ссылку в телеграм :)\n"
   ]
  }
 ],
 "metadata": {
  "kernelspec": {
   "display_name": "Python 3",
   "language": "python",
   "name": "python3"
  },
  "language_info": {
   "codemirror_mode": {
    "name": "ipython",
    "version": 3
   },
   "file_extension": ".py",
   "mimetype": "text/x-python",
   "name": "python",
   "nbconvert_exporter": "python",
   "pygments_lexer": "ipython3",
   "version": "3.7.3"
  },
  "toc": {
   "base_numbering": 1,
   "nav_menu": {},
   "number_sections": true,
   "sideBar": true,
   "skip_h1_title": false,
   "title_cell": "Table of Contents",
   "title_sidebar": "Contents",
   "toc_cell": false,
   "toc_position": {},
   "toc_section_display": true,
   "toc_window_display": false
  }
 },
 "nbformat": 4,
 "nbformat_minor": 2
}
