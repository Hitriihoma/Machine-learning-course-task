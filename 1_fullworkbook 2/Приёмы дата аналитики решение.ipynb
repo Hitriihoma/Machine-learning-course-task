{
 "cells": [
  {
   "cell_type": "markdown",
   "metadata": {},
   "source": [
    "# 0. Import libs"
   ]
  },
  {
   "cell_type": "code",
   "execution_count": 1,
   "metadata": {},
   "outputs": [
    {
     "name": "stdout",
     "output_type": "stream",
     "text": [
      "Populating the interactive namespace from numpy and matplotlib\n"
     ]
    }
   ],
   "source": [
    "%pylab inline\n",
    "\n",
    "import pandas as pd\n",
    "import numpy as np\n",
    "from datetime import datetime\n",
    "from dateutil.relativedelta import relativedelta\n",
    "import time\n",
    "import os\n",
    "import warnings\n",
    "warnings.simplefilter(\"ignore\")\n",
    "\n",
    "import matplotlib.pyplot as plt\n",
    "import plotly.graph_objs as go\n",
    "\n",
    "#многопоточность если потребуется\n",
    "from multiprocessing import Pool , Process\n",
    "from multiprocessing import Manager"
   ]
  },
  {
   "cell_type": "code",
   "execution_count": 2,
   "metadata": {},
   "outputs": [],
   "source": [
    "#импортируем всякие вспомогательные библиотеки, если будет время поиграться\n",
    "#а также библиотеки для отрисовки графиков\n",
    "import pandas as pd\n",
    "import numpy as np\n",
    "import matplotlib.pyplot as plt\n",
    "import seaborn as sns\n",
    "%matplotlib inline\n",
    "\n",
    "from collections import Counter\n",
    "\n",
    "\n",
    "from sklearn.model_selection import KFold, cross_val_score, train_test_split\n",
    "from sklearn.ensemble import (RandomForestClassifier, AdaBoostClassifier, \n",
    "                              GradientBoostingClassifier, ExtraTreesClassifier)\n",
    "from sklearn.svm import SVC\n",
    "import numpy as np\n",
    "from sklearn import metrics\n",
    "\n",
    "from sklearn.ensemble import RandomForestClassifier, AdaBoostClassifier, GradientBoostingClassifier, ExtraTreesClassifier, VotingClassifier\n",
    "from sklearn.ensemble import VotingClassifier as vc\n",
    "from sklearn.discriminant_analysis import LinearDiscriminantAnalysis\n",
    "from sklearn.linear_model import LogisticRegression\n",
    "from sklearn.neighbors import KNeighborsClassifier\n",
    "from sklearn.tree import DecisionTreeClassifier\n",
    "from sklearn.neural_network import MLPClassifier\n",
    "from sklearn.svm import SVC\n",
    "from sklearn.model_selection import GridSearchCV, cross_val_score, StratifiedKFold, learning_curve\n",
    "from sklearn.naive_bayes import GaussianNB\n",
    "\n",
    "from sklearn.linear_model import SGDClassifier as sgd\n",
    "from sklearn.linear_model import LogisticRegression as lr\n",
    "from sklearn.linear_model import Lasso as las\n",
    "from sklearn import svm\n",
    "\n",
    "from sklearn.preprocessing import StandardScaler\n",
    "from sklearn.cluster import DBSCAN, KMeans\n",
    "from sklearn.metrics import silhouette_score\n",
    "\n"
   ]
  },
  {
   "cell_type": "markdown",
   "metadata": {},
   "source": [
    "# load data"
   ]
  },
  {
   "cell_type": "code",
   "execution_count": 4,
   "metadata": {},
   "outputs": [
    {
     "name": "stdout",
     "output_type": "stream",
     "text": [
      "default: has default loan?\n",
      "housing: has housing loan?\n",
      "loan: has personal loan?\n",
      "contact: contact communication type\n",
      "month: last contact month of year \n",
      "day_of_week: last contact day of the week \n",
      "duration:  last contact duration, in seconds\n",
      "campaign: number of contacts performed during this campaign \n",
      "pdays: number of days that passed by after the client was last contacted from a previous campaign  999 - was not previously contacted)\n",
      "previous: number of contacts performed before this campaign \n",
      "poutcome: outcome of the previous marketing campaign \n",
      "emp.var.rate: employment variation rate - quarterly indicator \n",
      "cons.price.idx: consumer price index - monthly indicator \n",
      "cons.conf.idx: consumer confidence index - monthly indicator \n",
      "euribor3m: the rate of interest - daily indicator\n",
      "nr.employed: number of employees - quarterly indicator \n",
      "y: has the client subscribed a product\n"
     ]
    }
   ],
   "source": [
    "#посмотрим на комментарии ц excel файле, соответствующие столбцам\n",
    "#интересно, детальная расшифровка полей\n",
    "from openpyxl import Workbook\n",
    "from openpyxl import load_workbook\n",
    "\n",
    "#wb = load_workbook(\"data/Task_Python.xlsx\",)\n",
    "wb = load_workbook(r\"C:\\Course\\xsolla\\Git\\Machine-learning-course-task\\1_fullworkbook 2\\data\\Task_Python.xlsx\",)\n",
    "ws = wb[\"Train\"] # or whatever sheet name\n",
    "\n",
    "for nrow, row in enumerate(ws.rows):\n",
    "    if nrow == 1:\n",
    "        break\n",
    "    for cell in row:\n",
    "        if not cell.comment is None:\n",
    "            start = str(cell.comment).find('\\n') + 1\n",
    "            end = str(cell.comment).find(' by П')\n",
    "            print(f'{cell.value}: {str(cell.comment)[start:end]}')\n",
    "del wb, ws"
   ]
  },
  {
   "cell_type": "code",
   "execution_count": 18,
   "metadata": {},
   "outputs": [
    {
     "name": "stdout",
     "output_type": "stream",
     "text": [
      "(3222, 21)\n"
     ]
    },
    {
     "data": {
      "text/html": [
       "<div>\n",
       "<style scoped>\n",
       "    .dataframe tbody tr th:only-of-type {\n",
       "        vertical-align: middle;\n",
       "    }\n",
       "\n",
       "    .dataframe tbody tr th {\n",
       "        vertical-align: top;\n",
       "    }\n",
       "\n",
       "    .dataframe thead th {\n",
       "        text-align: right;\n",
       "    }\n",
       "</style>\n",
       "<table border=\"1\" class=\"dataframe\">\n",
       "  <thead>\n",
       "    <tr style=\"text-align: right;\">\n",
       "      <th></th>\n",
       "      <th>age</th>\n",
       "      <th>job</th>\n",
       "      <th>marital</th>\n",
       "      <th>education</th>\n",
       "      <th>default</th>\n",
       "      <th>housing</th>\n",
       "      <th>loan</th>\n",
       "      <th>contact</th>\n",
       "      <th>month</th>\n",
       "      <th>day_of_week</th>\n",
       "      <th>duration</th>\n",
       "      <th>campaign</th>\n",
       "      <th>pdays</th>\n",
       "      <th>previous</th>\n",
       "      <th>poutcome</th>\n",
       "      <th>emp.var.rate</th>\n",
       "      <th>cons.price.idx</th>\n",
       "      <th>cons.conf.idx</th>\n",
       "      <th>euribor3m</th>\n",
       "      <th>nr.employed</th>\n",
       "      <th>y</th>\n",
       "    </tr>\n",
       "  </thead>\n",
       "  <tbody>\n",
       "    <tr>\n",
       "      <th>0</th>\n",
       "      <td>30</td>\n",
       "      <td>blue-collar</td>\n",
       "      <td>married</td>\n",
       "      <td>basic.9y</td>\n",
       "      <td>no</td>\n",
       "      <td>yes</td>\n",
       "      <td>no</td>\n",
       "      <td>cellular</td>\n",
       "      <td>may</td>\n",
       "      <td>fri</td>\n",
       "      <td>487</td>\n",
       "      <td>2</td>\n",
       "      <td>999</td>\n",
       "      <td>0</td>\n",
       "      <td>nonexistent</td>\n",
       "      <td>-1.8</td>\n",
       "      <td>92.893</td>\n",
       "      <td>-46.2</td>\n",
       "      <td>1.313</td>\n",
       "      <td>5099.1</td>\n",
       "      <td>no</td>\n",
       "    </tr>\n",
       "    <tr>\n",
       "      <th>1</th>\n",
       "      <td>39</td>\n",
       "      <td>services</td>\n",
       "      <td>single</td>\n",
       "      <td>high.school</td>\n",
       "      <td>no</td>\n",
       "      <td>no</td>\n",
       "      <td>no</td>\n",
       "      <td>telephone</td>\n",
       "      <td>may</td>\n",
       "      <td>fri</td>\n",
       "      <td>346</td>\n",
       "      <td>4</td>\n",
       "      <td>999</td>\n",
       "      <td>0</td>\n",
       "      <td>nonexistent</td>\n",
       "      <td>1.1</td>\n",
       "      <td>93.994</td>\n",
       "      <td>-36.4</td>\n",
       "      <td>4.855</td>\n",
       "      <td>5191.0</td>\n",
       "      <td>no</td>\n",
       "    </tr>\n",
       "    <tr>\n",
       "      <th>2</th>\n",
       "      <td>25</td>\n",
       "      <td>services</td>\n",
       "      <td>married</td>\n",
       "      <td>high.school</td>\n",
       "      <td>no</td>\n",
       "      <td>yes</td>\n",
       "      <td>no</td>\n",
       "      <td>telephone</td>\n",
       "      <td>jun</td>\n",
       "      <td>wed</td>\n",
       "      <td>227</td>\n",
       "      <td>1</td>\n",
       "      <td>999</td>\n",
       "      <td>0</td>\n",
       "      <td>nonexistent</td>\n",
       "      <td>1.4</td>\n",
       "      <td>94.465</td>\n",
       "      <td>-41.8</td>\n",
       "      <td>4.962</td>\n",
       "      <td>5228.1</td>\n",
       "      <td>no</td>\n",
       "    </tr>\n",
       "    <tr>\n",
       "      <th>3</th>\n",
       "      <td>38</td>\n",
       "      <td>services</td>\n",
       "      <td>married</td>\n",
       "      <td>basic.9y</td>\n",
       "      <td>no</td>\n",
       "      <td>unknown</td>\n",
       "      <td>unknown</td>\n",
       "      <td>telephone</td>\n",
       "      <td>jun</td>\n",
       "      <td>fri</td>\n",
       "      <td>17</td>\n",
       "      <td>3</td>\n",
       "      <td>999</td>\n",
       "      <td>0</td>\n",
       "      <td>nonexistent</td>\n",
       "      <td>1.4</td>\n",
       "      <td>94.465</td>\n",
       "      <td>-41.8</td>\n",
       "      <td>4.959</td>\n",
       "      <td>5228.1</td>\n",
       "      <td>no</td>\n",
       "    </tr>\n",
       "    <tr>\n",
       "      <th>4</th>\n",
       "      <td>47</td>\n",
       "      <td>admin.</td>\n",
       "      <td>married</td>\n",
       "      <td>university.degree</td>\n",
       "      <td>no</td>\n",
       "      <td>yes</td>\n",
       "      <td>no</td>\n",
       "      <td>cellular</td>\n",
       "      <td>nov</td>\n",
       "      <td>mon</td>\n",
       "      <td>58</td>\n",
       "      <td>1</td>\n",
       "      <td>999</td>\n",
       "      <td>0</td>\n",
       "      <td>nonexistent</td>\n",
       "      <td>-0.1</td>\n",
       "      <td>93.200</td>\n",
       "      <td>-42.0</td>\n",
       "      <td>4.191</td>\n",
       "      <td>5195.8</td>\n",
       "      <td>no</td>\n",
       "    </tr>\n",
       "  </tbody>\n",
       "</table>\n",
       "</div>"
      ],
      "text/plain": [
       "   age          job  marital          education default  housing     loan  \\\n",
       "0   30  blue-collar  married           basic.9y      no      yes       no   \n",
       "1   39     services   single        high.school      no       no       no   \n",
       "2   25     services  married        high.school      no      yes       no   \n",
       "3   38     services  married           basic.9y      no  unknown  unknown   \n",
       "4   47       admin.  married  university.degree      no      yes       no   \n",
       "\n",
       "     contact month day_of_week  duration  campaign  pdays  previous  \\\n",
       "0   cellular   may         fri       487         2    999         0   \n",
       "1  telephone   may         fri       346         4    999         0   \n",
       "2  telephone   jun         wed       227         1    999         0   \n",
       "3  telephone   jun         fri        17         3    999         0   \n",
       "4   cellular   nov         mon        58         1    999         0   \n",
       "\n",
       "      poutcome  emp.var.rate  cons.price.idx  cons.conf.idx  euribor3m  \\\n",
       "0  nonexistent          -1.8          92.893          -46.2      1.313   \n",
       "1  nonexistent           1.1          93.994          -36.4      4.855   \n",
       "2  nonexistent           1.4          94.465          -41.8      4.962   \n",
       "3  nonexistent           1.4          94.465          -41.8      4.959   \n",
       "4  nonexistent          -0.1          93.200          -42.0      4.191   \n",
       "\n",
       "   nr.employed   y  \n",
       "0       5099.1  no  \n",
       "1       5191.0  no  \n",
       "2       5228.1  no  \n",
       "3       5228.1  no  \n",
       "4       5195.8  no  "
      ]
     },
     "metadata": {},
     "output_type": "display_data"
    }
   ],
   "source": [
    "#загрузим данные из excel посмотрим\n",
    "data = pd.read_excel(r'C:\\Course\\xsolla\\Git\\Machine-learning-course-task\\1_fullworkbook 2\\data\\Task_Python.xlsx', sheet_name='Train', nrows=3223, usecols='A:U', index_col=None)\n",
    "print(data.shape)\n",
    "with pd.option_context('max_columns',25):\n",
    "    display(data.head())\n",
    "#на всякий случай сохранил данные в csv формат, чтобы удобнее работать и проверять"
   ]
  },
  {
   "cell_type": "code",
   "execution_count": 19,
   "metadata": {},
   "outputs": [],
   "source": [
    "train_directory = \"C:/Course/xsolla/Git/Machine-learning-course-task/1_fullworkbook 2/data/train.csv\"\n",
    "test_directory = \"C:/Course/xsolla/Git/Machine-learning-course-task/1_fullworkbook 2/data/test.csv\"\n",
    "train = pd.read_csv(train_directory, header=0 )\n",
    "test = pd.read_csv(test_directory, header=0 )\n",
    "\n",
    "train['y'] = [1 if y == 'yes' else 0 for y in train['y']]"
   ]
  },
  {
   "cell_type": "code",
   "execution_count": 20,
   "metadata": {},
   "outputs": [],
   "source": [
    "#выделим категариальные признаки  и количественные признаки\n",
    "\n",
    "cat_feats = []\n",
    "num_feats = []\n",
    "\n",
    "for feat in train.dtypes.keys():\n",
    "    if train.dtypes[feat] == 'object' and feat != 'y':\n",
    "        cat_feats.append(feat)\n",
    "    elif feat != 'y':\n",
    "        num_feats.append(feat)\n",
    "        "
   ]
  },
  {
   "cell_type": "markdown",
   "metadata": {},
   "source": [
    "# 6. оценка стат значимости коэффициентов"
   ]
  },
  {
   "cell_type": "code",
   "execution_count": 53,
   "metadata": {},
   "outputs": [
    {
     "name": "stdout",
     "output_type": "stream",
     "text": [
      "                            OLS Regression Results                            \n",
      "==============================================================================\n",
      "Dep. Variable:                      y   R-squared:                       0.294\n",
      "Model:                            OLS   Adj. R-squared:                  0.294\n",
      "Method:                 Least Squares   F-statistic:                     447.3\n",
      "Date:                Sun, 22 Nov 2020   Prob (F-statistic):          6.91e-243\n",
      "Time:                        16:45:06   Log-Likelihood:                -296.50\n",
      "No. Observations:                3222   AIC:                             601.0\n",
      "Df Residuals:                    3218   BIC:                             625.3\n",
      "Df Model:                           3                                         \n",
      "Covariance Type:            nonrobust                                         \n",
      "==============================================================================\n",
      "                 coef    std err          t      P>|t|      [0.025      0.975]\n",
      "------------------------------------------------------------------------------\n",
      "Intercept      0.4680      0.031     15.021      0.000       0.407       0.529\n",
      "age            0.0007      0.000      1.615      0.107      -0.000       0.002\n",
      "duration       0.0005   1.85e-05     28.165      0.000       0.000       0.001\n",
      "pdays         -0.0005   2.46e-05    -21.875      0.000      -0.001      -0.000\n",
      "==============================================================================\n",
      "Omnibus:                     1134.810   Durbin-Watson:                   2.010\n",
      "Prob(Omnibus):                  0.000   Jarque-Bera (JB):             4792.434\n",
      "Skew:                           1.678   Prob(JB):                         0.00\n",
      "Kurtosis:                       7.943   Cond. No.                     6.75e+03\n",
      "==============================================================================\n",
      "\n",
      "Notes:\n",
      "[1] Standard Errors assume that the covariance matrix of the errors is correctly specified.\n",
      "[2] The condition number is large, 6.75e+03. This might indicate that there are\n",
      "strong multicollinearity or other numerical problems.\n"
     ]
    }
   ],
   "source": [
    "import statsmodels\n",
    "import statsmodels.formula.api as smf\n",
    "import statsmodels.stats.api as sms\n",
    "\n",
    "#постройте полиномиальную модель прогноза y от зависимости квадрата возраста (age) , третей степени продолжительности (duration) \n",
    "#и первой степени дней (pdays) на данных train\n",
    "\n",
    "m1 = smf.ols('y ~ age + duration + pdays',\n",
    "            data=train)\n",
    "fitted = m1.fit()\n",
    "\n",
    "#выведете саммари модели\n",
    "\n",
    "print(fitted.summary())"
   ]
  },
  {
   "cell_type": "markdown",
   "metadata": {},
   "source": [
    "# QQ график"
   ]
  },
  {
   "cell_type": "code",
   "execution_count": 62,
   "metadata": {},
   "outputs": [
    {
     "data": {
      "text/plain": [
       "<Figure size 1152x504 with 0 Axes>"
      ]
     },
     "metadata": {},
     "output_type": "display_data"
    },
    {
     "data": {
      "image/png": "[encoded data removed]",
      "text/plain": [
       "<Figure size 1152x504 with 1 Axes>"
      ]
     },
     "metadata": {
      "needs_background": "light"
     },
     "output_type": "display_data"
    }
   ],
   "source": [
    "import scipy as sc \n",
    "\n",
    "#постройте QQ график и дайте его оценку, точна ли модель на созданных факторах?\n",
    "#как можно улучшить модель?\n",
    "\n",
    "plt.figure(figsize(16,7))\n",
    "plt.subplots(121)\n",
    "sc.stats.probplot(fitted.resid, dist='norm', plot=pylab)\n",
    "plt.subplot(122)\n",
    "np.log(fitted.resid).plot.hist()\n",
    "plt.xlabel('Residuals', fontsize=14)\n",
    "pylab.show()"
   ]
  },
  {
   "cell_type": "code",
   "execution_count": 113,
   "metadata": {},
   "outputs": [
    {
     "data": {
      "text/plain": [
       "((array([-3.52082115, -3.27832144, -3.14428602, ...,  3.14428602,\n",
       "          3.27832144,  3.52082115]),\n",
       "  array([-1.65669219, -0.91822748, -0.9160903 , ...,  0.98220812,\n",
       "          0.99280527,  1.00908703])),\n",
       " (0.22561454144077778, -5.875745838476445e-16, 0.8495913643348778))"
      ]
     },
     "execution_count": 113,
     "metadata": {},
     "output_type": "execute_result"
    },
    {
     "data": {
      "image/png": "[encoded data removed]",
      "text/plain": [
       "<Figure size 720x360 with 1 Axes>"
      ]
     },
     "metadata": {
      "needs_background": "light"
     },
     "output_type": "display_data"
    }
   ],
   "source": [
    "sc.stats.probplot(fitted.resid, dist='norm', plot=pylab)"
   ]
  },
  {
   "cell_type": "markdown",
   "metadata": {},
   "source": [
    "# создание модели зависимости на основании ансамбля деревьев решений"
   ]
  },
  {
   "cell_type": "code",
   "execution_count": 97,
   "metadata": {},
   "outputs": [
    {
     "data": {
      "text/plain": [
       "RandomForestClassifier(n_estimators=30, random_state=22031990)"
      ]
     },
     "execution_count": 97,
     "metadata": {},
     "output_type": "execute_result"
    }
   ],
   "source": [
    "#создайте модель ансамбля деревьев решений на основании количественных переменных (num_feats)\n",
    "#задайте количество деревьев (n_estimators ) = 30\n",
    "#зафиксируйте генератор случайных чисел (random_state) на значении 22031990\n",
    "\n",
    "model = RandomForestClassifier(n_estimators=30, random_state=22031990)\n",
    "model.fit(train[num_feats], train['y'])"
   ]
  },
  {
   "cell_type": "markdown",
   "metadata": {},
   "source": [
    "# Оценка качества модели для построения выводов"
   ]
  },
  {
   "cell_type": "code",
   "execution_count": 98,
   "metadata": {},
   "outputs": [
    {
     "name": "stdout",
     "output_type": "stream",
     "text": [
      "0.994475138121547\n"
     ]
    }
   ],
   "source": [
    "#проверьте, какое качество прогноза модели получилось на обучающих данных\n",
    "#какова итоговая вероятность определения правильного значения y?\n",
    "print(metrics.roc_auc_score(train['y'],model.predict(train[num_feats])))"
   ]
  },
  {
   "cell_type": "markdown",
   "metadata": {},
   "source": [
    "# оценка важности признаков на таргет"
   ]
  },
  {
   "cell_type": "code",
   "execution_count": 99,
   "metadata": {},
   "outputs": [
    {
     "data": {
      "image/png": "[encoded data removed]",
      "text/plain": [
       "<Figure size 1152x504 with 1 Axes>"
      ]
     },
     "metadata": {
      "needs_background": "light"
     },
     "output_type": "display_data"
    }
   ],
   "source": [
    "#нарисуйте график Feature Importance\n",
    "#какие топ 3 фактора влияют на итоговую переменную y?\n",
    "\n",
    "indices = np.argsort(model.feature_importances_)[::-1][:40]\n",
    "g = sns.barplot(y=train.columns[indices][:40], x=model.feature_importances_[indices][:40]\n",
    "                ,orient='h')\n",
    "\n",
    "#отразим важные факторы для анализа потенциальных зависимостей в данных при всей выборке\n"
   ]
  },
  {
   "cell_type": "markdown",
   "metadata": {},
   "source": [
    "# фильтрация признаков"
   ]
  },
  {
   "cell_type": "code",
   "execution_count": 100,
   "metadata": {},
   "outputs": [
    {
     "data": {
      "text/plain": [
       "['pdays', 'pdays', 'pdays']"
      ]
     },
     "execution_count": 100,
     "metadata": {},
     "output_type": "execute_result"
    }
   ],
   "source": [
    "#постройте модель итеративно выбирая лучшие показатели и добавляя только самые значимые переменные.\n",
    "#сделайте модель на тооп 3 факторах из всего train\n",
    "#посмотрите, какие наиболее значимые фактооры получились?\n",
    "\n",
    "X_train, X_test, y_train, y_test = train_test_split(train[train.columns[:-1]], train['y'], test_size = 0.3, random_state=11)\n",
    "\n",
    "factors = X_train[num_feats]\n",
    "\n",
    "want_factors = 3\n",
    "factor_result = {}\n",
    "best_factors = []                                                    \n",
    "\n",
    "for i in range(want_factors):\n",
    "    factor_result[i] = {}                                                \n",
    "    for factor in factors:\n",
    "        fit_factors = [factor]\n",
    "        fit_factors.extend(best_factors)\n",
    "        rf = RandomForestClassifier(n_estimators=10, random_state=11)\n",
    "        rf.fit(X_train[fit_factors], y_train)\n",
    "\n",
    "        err_train = np.mean( y_train != rf.predict(X_train[fit_factors]))\n",
    "        err_test = np.mean( y_test != rf.predict(X_test[fit_factors]))\n",
    "\n",
    "        factor_result[i][factor] =  err_test\n",
    "    # find best\n",
    "    best_factors.append(pd.DataFrame(factor_result[i], index=[0]).T.sort_values(by=[0]).head(1).index[0])\n",
    "#pd.DataFrame(factor_result, index=[0]).T.sort_values(by=[0]).head(10)\n",
    "best_factors"
   ]
  },
  {
   "cell_type": "markdown",
   "metadata": {},
   "source": [
    "# оценка значимых признаков по boxplot"
   ]
  },
  {
   "cell_type": "code",
   "execution_count": 112,
   "metadata": {},
   "outputs": [
    {
     "data": {
      "image/png": "[encoded data removed]",
      "text/plain": [
       "<Figure size 1224x720 with 3 Axes>"
      ]
     },
     "metadata": {
      "needs_background": "light"
     },
     "output_type": "display_data"
    }
   ],
   "source": [
    "#нарисуйте ящики с усами отноосительно таргета по 3 значимым факторам из количественных переменных \n",
    "#и по 3 значимым факторам на основании добавления по лучшему фактору\n",
    "#какие факторы лучше описывают зависимость от y?\n",
    "\n",
    "fig, ax = plt.subplots(3, 1, figsize=(17,10))\n",
    "\n",
    "for i in range(3):\n",
    "    sns.violinplot(x=train.columns[indices][i], y='y', data=train, ax=ax[i])\n"
   ]
  },
  {
   "cell_type": "markdown",
   "metadata": {},
   "source": [
    "# PLOTLY"
   ]
  },
  {
   "cell_type": "code",
   "execution_count": 13,
   "metadata": {},
   "outputs": [
    {
     "data": {
      "text/html": [
       "<div>\n",
       "<style scoped>\n",
       "    .dataframe tbody tr th:only-of-type {\n",
       "        vertical-align: middle;\n",
       "    }\n",
       "\n",
       "    .dataframe tbody tr th {\n",
       "        vertical-align: top;\n",
       "    }\n",
       "\n",
       "    .dataframe thead th {\n",
       "        text-align: right;\n",
       "    }\n",
       "</style>\n",
       "<table border=\"1\" class=\"dataframe\">\n",
       "  <thead>\n",
       "    <tr style=\"text-align: right;\">\n",
       "      <th></th>\n",
       "      <th>healthPercent</th>\n",
       "      <th>manaPercent</th>\n",
       "      <th>matchid</th>\n",
       "      <th>name</th>\n",
       "      <th>gameTime</th>\n",
       "    </tr>\n",
       "  </thead>\n",
       "  <tbody>\n",
       "    <tr>\n",
       "      <th>0</th>\n",
       "      <td>100.0</td>\n",
       "      <td>100.0</td>\n",
       "      <td>5386235108</td>\n",
       "      <td>S1N1ST3R</td>\n",
       "      <td>167</td>\n",
       "    </tr>\n",
       "    <tr>\n",
       "      <th>1</th>\n",
       "      <td>100.0</td>\n",
       "      <td>100.0</td>\n",
       "      <td>5386235108</td>\n",
       "      <td>S1N1ST3R</td>\n",
       "      <td>169</td>\n",
       "    </tr>\n",
       "    <tr>\n",
       "      <th>2</th>\n",
       "      <td>100.0</td>\n",
       "      <td>100.0</td>\n",
       "      <td>5386235108</td>\n",
       "      <td>S1N1ST3R</td>\n",
       "      <td>170</td>\n",
       "    </tr>\n",
       "    <tr>\n",
       "      <th>3</th>\n",
       "      <td>100.0</td>\n",
       "      <td>100.0</td>\n",
       "      <td>5386235108</td>\n",
       "      <td>S1N1ST3R</td>\n",
       "      <td>171</td>\n",
       "    </tr>\n",
       "    <tr>\n",
       "      <th>4</th>\n",
       "      <td>100.0</td>\n",
       "      <td>100.0</td>\n",
       "      <td>5386235108</td>\n",
       "      <td>S1N1ST3R</td>\n",
       "      <td>172</td>\n",
       "    </tr>\n",
       "  </tbody>\n",
       "</table>\n",
       "</div>"
      ],
      "text/plain": [
       "   healthPercent  manaPercent     matchid      name  gameTime\n",
       "0          100.0        100.0  5386235108  S1N1ST3R       167\n",
       "1          100.0        100.0  5386235108  S1N1ST3R       169\n",
       "2          100.0        100.0  5386235108  S1N1ST3R       170\n",
       "3          100.0        100.0  5386235108  S1N1ST3R       171\n",
       "4          100.0        100.0  5386235108  S1N1ST3R       172"
      ]
     },
     "execution_count": 13,
     "metadata": {},
     "output_type": "execute_result"
    }
   ],
   "source": [
    "df_game_log = pd.read_csv('C:/Course/xsolla/Git/Machine-learning-course-task/1_fullworkbook 2/dota_data/df_game_log_students.csv')\n",
    "\n",
    "df_game_log.head()"
   ]
  },
  {
   "cell_type": "code",
   "execution_count": null,
   "metadata": {},
   "outputs": [],
   "source": [
    "#https://pypi.org/project/plotly/\n",
    "!pip install plotly"
   ]
  },
  {
   "cell_type": "code",
   "execution_count": null,
   "metadata": {},
   "outputs": [],
   "source": [
    "%matplotlib inline\n",
    "%pylab inline\n",
    "from plotly import __version__\n",
    "from plotly.offline import download_plotlyjs, init_notebook_mode, plot, iplot\n",
    "import plotly.graph_objs as go\n",
    "import plotly.graph_objects as goo\n",
    "init_notebook_mode(connected=True)\n"
   ]
  },
  {
   "cell_type": "code",
   "execution_count": null,
   "metadata": {},
   "outputs": [],
   "source": [
    "#найдите игру (matchid), где в течение игрового времени средний уровень жизни (healthPercent) максимальный\n",
    "#что этоо за игра?\n",
    "\n"
   ]
  },
  {
   "cell_type": "code",
   "execution_count": null,
   "metadata": {},
   "outputs": [],
   "source": [
    "#выведите график поведения healthPercent и manaPercent по данной игре\n",
    "#на оси x выводите gameTime\n",
    "\n"
   ]
  },
  {
   "cell_type": "markdown",
   "metadata": {},
   "source": [
    "# dsstack"
   ]
  },
  {
   "cell_type": "code",
   "execution_count": null,
   "metadata": {},
   "outputs": [],
   "source": [
    "!pip install dstack\n"
   ]
  },
  {
   "cell_type": "code",
   "execution_count": null,
   "metadata": {},
   "outputs": [],
   "source": [
    "#пример загрузки файла\n",
    "import matplotlib.pyplot as plt\n",
    "from dstack import create_frame\n",
    "\n",
    "def line_plot(a):\n",
    "    xs = range(0, 21)\n",
    "    ys = [a * x for x in xs]\n",
    "    fig = plt.figure()\n",
    "    plt.axis([0, 20, 0, 20])\n",
    "    plt.plot(xs, ys)\n",
    "    return fig\n",
    "\n",
    "\n",
    "frame = create_frame(\"line_plot\")\n",
    "coeff = [0.5, 1.0, 1.5, 2.0]\n",
    "\n",
    "for c in coeff:\n",
    "    frame.commit(line_plot(c), \n",
    "    f\"Line plot with the coefficient of {c}\", {\"Coefficient\": c})\n",
    "\n",
    "frame.push()"
   ]
  },
  {
   "cell_type": "code",
   "execution_count": null,
   "metadata": {},
   "outputs": [],
   "source": [
    "#загрузите полученный график по жизням и мане в выбранной игре через dstack и скиньте мне на него ссылку в телеграм :)\n"
   ]
  }
 ],
 "metadata": {
  "kernelspec": {
   "display_name": "Python 3",
   "language": "python",
   "name": "python3"
  },
  "language_info": {
   "codemirror_mode": {
    "name": "ipython",
    "version": 3
   },
   "file_extension": ".py",
   "mimetype": "text/x-python",
   "name": "python",
   "nbconvert_exporter": "python",
   "pygments_lexer": "ipython3",
   "version": "3.7.9"
  },
  "toc": {
   "base_numbering": 1,
   "nav_menu": {},
   "number_sections": true,
   "sideBar": true,
   "skip_h1_title": false,
   "title_cell": "Table of Contents",
   "title_sidebar": "Contents",
   "toc_cell": false,
   "toc_position": {},
   "toc_section_display": true,
   "toc_window_display": false
  }
 },
 "nbformat": 4,
 "nbformat_minor": 2
}
